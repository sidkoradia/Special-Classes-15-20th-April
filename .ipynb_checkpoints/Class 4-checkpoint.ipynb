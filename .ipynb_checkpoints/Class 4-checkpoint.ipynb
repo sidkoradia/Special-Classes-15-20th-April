{
 "cells": [
  {
   "cell_type": "markdown",
   "metadata": {},
   "source": [
    "Operators are the special symbols to perform arithmetic and logical operations"
   ]
  },
  {
   "cell_type": "code",
   "execution_count": null,
   "metadata": {},
   "outputs": [],
   "source": [
    "2 + 3\n",
    "# + is the operator\n",
    "#2,3 are the operands"
   ]
  },
  {
   "cell_type": "code",
   "execution_count": 9,
   "metadata": {},
   "outputs": [
    {
     "name": "stdout",
     "output_type": "stream",
     "text": [
      "50\n",
      "-10\n",
      "600\n",
      "0.6666666666666666\n",
      "0\n",
      "1073741824000000000000000000000000000000\n",
      "20\n"
     ]
    }
   ],
   "source": [
    "#arithmetic operations\n",
    "\n",
    "x=20\n",
    "y=30\n",
    "\n",
    "print (x + y)\n",
    "\n",
    "print (x - y)\n",
    "\n",
    "print(x*y)\n",
    "\n",
    "print(x/y) #returns float\n",
    "\n",
    "print(x//y) #returns integer\n",
    "\n",
    "print(x**y) #raise to power\n",
    "\n",
    "print(x%y) #modulus function which gives remainder"
   ]
  },
  {
   "cell_type": "markdown",
   "metadata": {},
   "source": [
    "# Comparison Operators - always returns true or false\n",
    "# <\n",
    "# >\n",
    "# =\n",
    "# <=\n",
    "# >=\n",
    "# ==\n",
    "# !="
   ]
  },
  {
   "cell_type": "code",
   "execution_count": null,
   "metadata": {},
   "outputs": [],
   "source": [
    "Logical Operators - and, or, not"
   ]
  },
  {
   "cell_type": "code",
   "execution_count": 1,
   "metadata": {},
   "outputs": [
    {
     "name": "stdout",
     "output_type": "stream",
     "text": [
      "2\n"
     ]
    }
   ],
   "source": [
    "#Bitwise Operators - To convert binary into number\n",
    "x = 2 #.....> 1 0 in binary\n",
    "y = 7 #....> 1 1 1 in binary\n",
    "\n",
    "#bitwise and\n",
    "print(x&y)"
   ]
  },
  {
   "cell_type": "code",
   "execution_count": 2,
   "metadata": {},
   "outputs": [
    {
     "name": "stdout",
     "output_type": "stream",
     "text": [
      "0\n"
     ]
    }
   ],
   "source": [
    "x=10\n",
    "y=4\n",
    "\n",
    "print(x&y)"
   ]
  },
  {
   "cell_type": "code",
   "execution_count": 3,
   "metadata": {},
   "outputs": [
    {
     "name": "stdout",
     "output_type": "stream",
     "text": [
      "14\n"
     ]
    }
   ],
   "source": [
    "# bitwise or\n",
    "\n",
    "x=10\n",
    "y=4\n",
    "\n",
    "print(x|y)"
   ]
  },
  {
   "cell_type": "code",
   "execution_count": 4,
   "metadata": {},
   "outputs": [
    {
     "name": "stdout",
     "output_type": "stream",
     "text": [
      "7\n"
     ]
    }
   ],
   "source": [
    "x=2\n",
    "y=7\n",
    "\n",
    "print(x|y)"
   ]
  },
  {
   "cell_type": "code",
   "execution_count": 6,
   "metadata": {},
   "outputs": [
    {
     "name": "stdout",
     "output_type": "stream",
     "text": [
      "14\n"
     ]
    }
   ],
   "source": [
    "#bitwise XOR\n",
    "x=10\n",
    "y=4\n",
    "\n",
    "print(x^y)"
   ]
  },
  {
   "cell_type": "code",
   "execution_count": 8,
   "metadata": {},
   "outputs": [
    {
     "name": "stdout",
     "output_type": "stream",
     "text": [
      "2\n",
      "5\n"
     ]
    }
   ],
   "source": [
    "#bitwise right shift\n",
    "x = 10\n",
    "print(x>>2)\n",
    "print (x>>1)"
   ]
  },
  {
   "cell_type": "code",
   "execution_count": 10,
   "metadata": {},
   "outputs": [
    {
     "name": "stdout",
     "output_type": "stream",
     "text": [
      "40\n",
      "20\n"
     ]
    }
   ],
   "source": [
    "#bitwise left shift\n",
    "x=10\n",
    "print(x<<2)\n",
    "print(x<<1)"
   ]
  },
  {
   "cell_type": "code",
   "execution_count": 13,
   "metadata": {},
   "outputs": [
    {
     "name": "stdout",
     "output_type": "stream",
     "text": [
      "-1\n"
     ]
    }
   ],
   "source": [
    "#bitwise NOT\n",
    "a=0 #.....>add 1 to the number and turn it negative\n",
    "print(~a)"
   ]
  },
  {
   "cell_type": "code",
   "execution_count": 12,
   "metadata": {},
   "outputs": [
    {
     "name": "stdout",
     "output_type": "stream",
     "text": [
      "4\n"
     ]
    }
   ],
   "source": [
    "a=-5 #bitwise NOT if the number is negative\n",
    "print(~a)"
   ]
  },
  {
   "cell_type": "code",
   "execution_count": 22,
   "metadata": {},
   "outputs": [
    {
     "name": "stdout",
     "output_type": "stream",
     "text": [
      "10\n",
      "0\n"
     ]
    }
   ],
   "source": [
    "#Assignment Operator\n",
    "x=5\n",
    "x+=5 #is same as x=5 and x=x+5\n",
    "print(x)\n",
    "y=5\n",
    "y-=5 #is same as y=5 and y=y-5\n",
    "print(y)"
   ]
  },
  {
   "cell_type": "code",
   "execution_count": null,
   "metadata": {},
   "outputs": [],
   "source": [
    "# =\n",
    "\n",
    "# +=\n",
    "\n",
    "# -=\n",
    "\n",
    "# /= \n",
    "\n",
    "# %= Modulus \n",
    "\n",
    "# //=\n",
    "\n",
    "# **= Power\n",
    "\n",
    "# &= AND\n",
    "\n",
    "# |= OR\n",
    "\n",
    "# ^= XOR\n",
    "\n",
    "# ~= NOT\n",
    "\n",
    "# >>= Right shift\n",
    "\n",
    "# <<= left shift"
   ]
  },
  {
   "cell_type": "code",
   "execution_count": 24,
   "metadata": {},
   "outputs": [
    {
     "name": "stdout",
     "output_type": "stream",
     "text": [
      "False\n"
     ]
    }
   ],
   "source": [
    "#Identity Operators - \"is\" and \"is not\" and return of this will always be true or false\n",
    "x=5\n",
    "y=5\n",
    "z=6\n",
    "print(x is z) #means the memory location of x and z is same - address is same and NOT VALUE"
   ]
  },
  {
   "cell_type": "code",
   "execution_count": 25,
   "metadata": {},
   "outputs": [
    {
     "name": "stdout",
     "output_type": "stream",
     "text": [
      "True\n"
     ]
    }
   ],
   "source": [
    "#membership Operator - are not allowed in int,float,complex and boolean ...numerical/boolean\n",
    "#\"not in\" and \"in\"\n",
    "x = \"sdfs\"\n",
    "y=\"d\"\n",
    "print(y in x) #...whether value of y is present in x or not"
   ]
  },
  {
   "cell_type": "code",
   "execution_count": 26,
   "metadata": {},
   "outputs": [
    {
     "name": "stdout",
     "output_type": "stream",
     "text": [
      "True\n"
     ]
    }
   ],
   "source": [
    "x = {3,4,5,7}\n",
    "print(4 in x)"
   ]
  },
  {
   "cell_type": "code",
   "execution_count": 27,
   "metadata": {},
   "outputs": [
    {
     "name": "stdout",
     "output_type": "stream",
     "text": [
      "False\n"
     ]
    }
   ],
   "source": [
    "x = {3,4,5,7}\n",
    "print(4 not in x)"
   ]
  },
  {
   "cell_type": "code",
   "execution_count": null,
   "metadata": {},
   "outputs": [],
   "source": [
    "# Arithmetic\n",
    "# Comparison\n",
    "# Logical\n",
    "# Bitwise\n",
    "# Identity\n",
    "# Membership"
   ]
  },
  {
   "cell_type": "code",
   "execution_count": 30,
   "metadata": {},
   "outputs": [
    {
     "name": "stdout",
     "output_type": "stream",
     "text": [
      "3\n",
      "4\n",
      "5\n"
     ]
    }
   ],
   "source": [
    "q=3\n",
    "w=4\n",
    "e=5\n",
    "print(q,w,e,sep = \"\\n\") #to print in separate lines"
   ]
  },
  {
   "cell_type": "code",
   "execution_count": 36,
   "metadata": {},
   "outputs": [
    {
     "name": "stdout",
     "output_type": "stream",
     "text": [
      "PLease enter your username5\n",
      "<class 'str'>\n"
     ]
    }
   ],
   "source": [
    "#Taking input from the user\n",
    "a=input(\"PLease enter your username\")\n",
    "print(type(a))"
   ]
  },
  {
   "cell_type": "code",
   "execution_count": null,
   "metadata": {},
   "outputs": [],
   "source": []
  },
  {
   "cell_type": "code",
   "execution_count": null,
   "metadata": {},
   "outputs": [],
   "source": []
  }
 ],
 "metadata": {
  "kernelspec": {
   "display_name": "Python 3",
   "language": "python",
   "name": "python3"
  },
  "language_info": {
   "codemirror_mode": {
    "name": "ipython",
    "version": 3
   },
   "file_extension": ".py",
   "mimetype": "text/x-python",
   "name": "python",
   "nbconvert_exporter": "python",
   "pygments_lexer": "ipython3",
   "version": "3.8.5"
  }
 },
 "nbformat": 4,
 "nbformat_minor": 4
}
