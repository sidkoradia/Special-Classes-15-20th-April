{
 "cells": [
  {
   "cell_type": "markdown",
   "metadata": {},
   "source": [
    "# To put something in bold and give Title; you have to follow Hash(#) followed by a space\n",
    "Print Statement is used to print something on the screen"
   ]
  },
  {
   "cell_type": "code",
   "execution_count": 1,
   "metadata": {},
   "outputs": [
    {
     "name": "stdout",
     "output_type": "stream",
     "text": [
      "Siddhant\n"
     ]
    }
   ],
   "source": [
    "print (\"Siddhant\")"
   ]
  },
  {
   "cell_type": "markdown",
   "metadata": {},
   "source": [
    "###### One can go upto 6 hashes to decrease the size of the title"
   ]
  },
  {
   "cell_type": "markdown",
   "metadata": {},
   "source": [
    "A is the shortcut key to add a new cell above the current cell; A=Above"
   ]
  },
  {
   "cell_type": "markdown",
   "metadata": {},
   "source": [
    "B is the shortcut key to add a new cell below the current cell; B=Below"
   ]
  },
  {
   "cell_type": "markdown",
   "metadata": {},
   "source": [
    "dd is the shortcut key to delete the current dell"
   ]
  },
  {
   "cell_type": "markdown",
   "metadata": {},
   "source": [
    "M is the shortcut key to convert the cell into markdown; markdown is basically to convert into note"
   ]
  },
  {
   "cell_type": "markdown",
   "metadata": {},
   "source": [
    "Help > Keyboard shortcuts - It will contain all the shortcut keys"
   ]
  },
  {
   "cell_type": "markdown",
   "metadata": {},
   "source": [
    "Interpreter and Compiler are the two tools to convert High level language into low level language"
   ]
  },
  {
   "cell_type": "markdown",
   "metadata": {},
   "source": [
    "The difference between Interpreter and Compiler is that Interpreter will go line by line whereas Compiler is that it will process the whole code at one point in time."
   ]
  },
  {
   "cell_type": "markdown",
   "metadata": {},
   "source": [
    "C & Java is used for Compiler which is traditional whereas Python & R uses Interpreter which is faster in memory management."
   ]
  },
  {
   "cell_type": "code",
   "execution_count": null,
   "metadata": {},
   "outputs": [],
   "source": []
  }
 ],
 "metadata": {
  "kernelspec": {
   "display_name": "Python 3",
   "language": "python",
   "name": "python3"
  },
  "language_info": {
   "codemirror_mode": {
    "name": "ipython",
    "version": 3
   },
   "file_extension": ".py",
   "mimetype": "text/x-python",
   "name": "python",
   "nbconvert_exporter": "python",
   "pygments_lexer": "ipython3",
   "version": "3.8.5"
  }
 },
 "nbformat": 4,
 "nbformat_minor": 4
}
